{
  "nbformat": 4,
  "nbformat_minor": 0,
  "metadata": {
    "colab": {
      "provenance": [],
      "mount_file_id": "1KD_hfzaUOQH1Ffolt-anVNJx4syKCYdc",
      "authorship_tag": "ABX9TyO9HWwY445L+YpW6ZW1NOCZ",
      "include_colab_link": true
    },
    "kernelspec": {
      "name": "python3",
      "display_name": "Python 3"
    },
    "language_info": {
      "name": "python"
    }
  },
  "cells": [
    {
      "cell_type": "markdown",
      "metadata": {
        "id": "view-in-github",
        "colab_type": "text"
      },
      "source": [
        "<a href=\"https://colab.research.google.com/github/hebamuh68/Machine-Learning-Specialization/blob/main/Neural_network/NN_1.ipynb\" target=\"_parent\"><img src=\"https://colab.research.google.com/assets/colab-badge.svg\" alt=\"Open In Colab\"/></a>"
      ]
    },
    {
      "cell_type": "markdown",
      "source": [
        "# **Import Libraries**"
      ],
      "metadata": {
        "id": "auOaNT0CaSwK"
      }
    },
    {
      "cell_type": "code",
      "source": [
        "import tensorflow as tf"
      ],
      "metadata": {
        "id": "ckI7A0UsaXgE"
      },
      "execution_count": null,
      "outputs": []
    },
    {
      "cell_type": "markdown",
      "source": [
        "# **Load The Dataset**"
      ],
      "metadata": {
        "id": "2HOX7tu2aqQv"
      }
    },
    {
      "cell_type": "code",
      "source": [
        "mnist = tf.keras.datasets.mnist"
      ],
      "metadata": {
        "id": "hC6KN0JvaiQB"
      },
      "execution_count": null,
      "outputs": []
    },
    {
      "cell_type": "code",
      "source": [
        "# Seprate the data into test and train using load_data()\n",
        "(x_train, y_train),(x_test, y_test) = mnist.load_data()"
      ],
      "metadata": {
        "id": "UbylvapvakKw"
      },
      "execution_count": null,
      "outputs": []
    },
    {
      "cell_type": "markdown",
      "source": [
        "# **Build the NN**"
      ],
      "metadata": {
        "id": "7m8LpTrDfnu7"
      }
    },
    {
      "cell_type": "code",
      "source": [
        "# This build the NN structure only, but with no input layer/hidden layer/output layer\n",
        "model = tf.keras.models.Sequential()"
      ],
      "metadata": {
        "id": "4cheirwabDST"
      },
      "execution_count": null,
      "outputs": []
    },
    {
      "cell_type": "code",
      "source": [
        "# This add the layer (not the data) as 1 col instead of the dataframe.\n",
        "model.add(tf.keras.layers.Flatten())"
      ],
      "metadata": {
        "id": "PbX__-hcgkLK"
      },
      "execution_count": null,
      "outputs": []
    },
    {
      "cell_type": "code",
      "source": [
        "# ============== we deal with the hidden layer here ==============\n",
        "\n",
        "# Dense differs from the falatten in that it specific to hidden layer and output\n",
        "# The hidden layer neurons should be less than the output\n",
        "# 128 is the number of hidden layer neurons\n",
        "model.add(tf.keras.layers.Dense(128, activation=tf.nn.relu))"
      ],
      "metadata": {
        "id": "8R05hDSkhejf"
      },
      "execution_count": null,
      "outputs": []
    },
    {
      "cell_type": "code",
      "source": [
        "# Drop random of some neurons, to reduce the time and overfitt\n",
        "# 0.2 ==20%\n",
        "model.add(tf.keras.layers.Dropout(0.2))"
      ],
      "metadata": {
        "id": "88RlPDFgksL9"
      },
      "execution_count": null,
      "outputs": []
    },
    {
      "cell_type": "code",
      "source": [
        "# ============== we deal with the output layer here ==============\n",
        "\n",
        "#  10 is the number of classes u wanna classify.\n",
        "# mnist is consist of 10 numbers from 0:9 so we used 10\n",
        "model.add(tf.keras.layers.Dense(10, activation=tf.nn.softmax))"
      ],
      "metadata": {
        "id": "GEwyjMOOlPGK"
      },
      "execution_count": null,
      "outputs": []
    },
    {
      "cell_type": "code",
      "source": [
        "# We decide the optimizer to reach the optimal solution, best graident descent rn is adam\n",
        "model.compile(optimizer='adam', loss='sparse_categorical_crossentropy', metrics=['accuracy'])"
      ],
      "metadata": {
        "id": "vnqMwJU0miW2"
      },
      "execution_count": null,
      "outputs": []
    },
    {
      "cell_type": "markdown",
      "source": [
        " **Loss  function differs based on the problem, like:**\n",
        "  - prediction =>  mes\n",
        "  - Binary classfication =>  binary_crossentropy\n",
        "  - Multible classfication => categorical_crossentropy"
      ],
      "metadata": {
        "id": "BzChq6VvrIBk"
      }
    },
    {
      "cell_type": "markdown",
      "source": [
        "# **Train The Model**"
      ],
      "metadata": {
        "id": "HhFXrOgvrWWE"
      }
    },
    {
      "cell_type": "code",
      "source": [
        "model.fit(x_train, y_train, epochs=3)"
      ],
      "metadata": {
        "colab": {
          "base_uri": "https://localhost:8080/"
        },
        "id": "SnMHNMEvrV69",
        "outputId": "87066140-3105-4d2e-878d-fb16594ba8d9"
      },
      "execution_count": null,
      "outputs": [
        {
          "output_type": "stream",
          "name": "stdout",
          "text": [
            "Epoch 1/3\n",
            "1875/1875 [==============================] - 11s 5ms/step - loss: 2.0339 - accuracy: 0.2066\n",
            "Epoch 2/3\n",
            "1875/1875 [==============================] - 10s 5ms/step - loss: 1.9214 - accuracy: 0.2402\n",
            "Epoch 3/3\n",
            "1875/1875 [==============================] - 9s 5ms/step - loss: 1.7382 - accuracy: 0.2863\n"
          ]
        },
        {
          "output_type": "execute_result",
          "data": {
            "text/plain": [
              "<keras.src.callbacks.History at 0x7bae0f0dfac0>"
            ]
          },
          "metadata": {},
          "execution_count": 20
        }
      ]
    },
    {
      "cell_type": "code",
      "source": [
        "# The model predict the output of x-test (it supposed to be as close as possible to y-test)\n",
        "model.predict(x_test)"
      ],
      "metadata": {
        "colab": {
          "base_uri": "https://localhost:8080/"
        },
        "id": "KHG6CorerKe6",
        "outputId": "940301ec-2c02-472a-fc55-3f5ff52ddd15"
      },
      "execution_count": null,
      "outputs": [
        {
          "output_type": "stream",
          "name": "stdout",
          "text": [
            "313/313 [==============================] - 1s 2ms/step\n"
          ]
        },
        {
          "output_type": "execute_result",
          "data": {
            "text/plain": [
              "array([[1.0912431e-03, 1.6044451e-02, 1.0062192e-02, ..., 3.1810653e-01,\n",
              "        8.8479288e-02, 2.8924569e-01],\n",
              "       [1.6505620e-01, 1.4859551e-02, 1.7196938e-01, ..., 8.3763655e-03,\n",
              "        1.2946305e-01, 1.2647769e-02],\n",
              "       [3.5435439e-04, 9.2171222e-01, 1.0384072e-02, ..., 9.6843699e-03,\n",
              "        2.8698562e-02, 6.5642246e-03],\n",
              "       ...,\n",
              "       [1.0912431e-03, 1.6044451e-02, 1.0062192e-02, ..., 3.1810653e-01,\n",
              "        8.8479288e-02, 2.8924569e-01],\n",
              "       [1.6505620e-01, 1.4859551e-02, 1.7196938e-01, ..., 8.3763655e-03,\n",
              "        1.2946305e-01, 1.2647769e-02],\n",
              "       [1.6505620e-01, 1.4859551e-02, 1.7196938e-01, ..., 8.3763655e-03,\n",
              "        1.2946305e-01, 1.2647769e-02]], dtype=float32)"
            ]
          },
          "metadata": {},
          "execution_count": 21
        }
      ]
    },
    {
      "cell_type": "code",
      "source": [
        "val_loss, val_acc = model.evaluate(x_test, y_test)"
      ],
      "metadata": {
        "colab": {
          "base_uri": "https://localhost:8080/"
        },
        "id": "w2fE2aU7t2oq",
        "outputId": "85fa92d0-608b-4ba4-eca7-e30a71c1ecda"
      },
      "execution_count": null,
      "outputs": [
        {
          "output_type": "stream",
          "name": "stdout",
          "text": [
            "313/313 [==============================] - 1s 4ms/step - loss: 1.6910 - accuracy: 0.2954\n"
          ]
        }
      ]
    },
    {
      "cell_type": "markdown",
      "source": [
        "# **Save The Model**"
      ],
      "metadata": {
        "id": "UTWge1eAuFnK"
      }
    },
    {
      "cell_type": "code",
      "source": [
        "model.save('mnist_model.model')"
      ],
      "metadata": {
        "id": "7OsdrrS1t9Hu"
      },
      "execution_count": null,
      "outputs": []
    },
    {
      "cell_type": "code",
      "source": [
        "mnist_model = tf.keras.models.load_model('mnist_model.model')"
      ],
      "metadata": {
        "id": "_ilSAw6XuZqA"
      },
      "execution_count": null,
      "outputs": []
    }
  ]
}